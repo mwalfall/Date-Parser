{
 "cells": [
  {
   "cell_type": "markdown",
   "metadata": {},
   "source": [
    "The following code is an example of a data cleansing process that using regex to extract differently formatted dates from records in a text file. It locates the dates in the string, formats them and stores them in the 'formatted_dates' field. This is done in a single pass over the dataset. Examples of date formats that might occur anywhre in a string follow:\n",
    "\n",
    "* 04/20/2009; 04/20/09; 4/20/09; 4/3/09\n",
    "* Mar-20-2009; Mar 20, 2009; March 20, 2009; Mar. 20, 2009; Mar 20 2009;\n",
    "* 20 Mar 2009; 20 March 2009; 20 Mar. 2009; 20 March, 2009\n",
    "* Mar 20th, 2009; Mar 21st, 2009; Mar 22nd, 2009\n",
    "* Feb 2009; Sep 2009; Oct 2010\n",
    "* 6/2008; 12/2009\n",
    "* 2009; 2010"
   ]
  },
  {
   "cell_type": "code",
   "execution_count": 110,
   "metadata": {
    "collapsed": true
   },
   "outputs": [],
   "source": [
    "import pandas as pd\n",
    "import re\n",
    "from datetime import datetime "
   ]
  },
  {
   "cell_type": "code",
   "execution_count": 111,
   "metadata": {
    "collapsed": true
   },
   "outputs": [],
   "source": [
    "def convert_list_to_df(doc):\n",
    "    \"\"\"\n",
    "    Given a list convert it to DataFrame containing the following columns:\n",
    "    * 'Text'\n",
    "    * 'formatted_date'.\n",
    "    \"\"\"\n",
    "    df = pd.DataFrame(doc, columns=['Text'])\n",
    "    df['formatted_date'] = pd.Series()\n",
    "    return df"
   ]
  },
  {
   "cell_type": "code",
   "execution_count": 112,
   "metadata": {
    "collapsed": true
   },
   "outputs": [],
   "source": [
    "def date_sorter():\n",
    "    result = pd.Series(df.index)\n",
    "    return result"
   ]
  },
  {
   "cell_type": "code",
   "execution_count": 113,
   "metadata": {
    "collapsed": true
   },
   "outputs": [],
   "source": [
    "def date_transformer(df):\n",
    "    \"\"\"\n",
    "    Applies a lambda to each row in the Dataframe. Each record in the dataset is processed\n",
    "    once.\n",
    "    \"\"\"\n",
    "    df = df.apply(lambda row: process_text(row), axis=1)\n",
    "    return df"
   ]
  },
  {
   "cell_type": "code",
   "execution_count": 114,
   "metadata": {
    "collapsed": true
   },
   "outputs": [],
   "source": [
    "def get_day(day):\n",
    "    \"\"\"\n",
    "    Returns day of month in 'dd' format.\n",
    "    \"\"\"\n",
    "    day = day.replace(',','').replace('.', '')\n",
    "    if len(day) == 2:\n",
    "        return day\n",
    "    else:\n",
    "        return '0' + day"
   ]
  },
  {
   "cell_type": "code",
   "execution_count": 115,
   "metadata": {
    "collapsed": true
   },
   "outputs": [],
   "source": [
    "def get_month(month):\n",
    "    \"\"\"\n",
    "    Returns string with month in 'mm' format.\n",
    "    \"\"\"\n",
    "    month = month.replace(',', '').replace('.', '')\n",
    "    if len(month) == 2:\n",
    "        return month\n",
    "    else:\n",
    "        return '0' + month"
   ]
  },
  {
   "cell_type": "code",
   "execution_count": 116,
   "metadata": {
    "collapsed": true
   },
   "outputs": [],
   "source": [
    "def get_month_from_name(month):\n",
    "    \"\"\" \n",
    "    Given an alpha description of a month a string containing the numeric \n",
    "    equivalent is returned.\n",
    "    \"\"\"\n",
    "    \n",
    "    result = re.match(r'[Jj]an[a-z,.]*', month)\n",
    "    if result is not None:\n",
    "        return '01'\n",
    "    result = re.match(r'[Ff]eb[a-z,.]*', month)\n",
    "    if result is not None:\n",
    "        return '02'\n",
    "    result = re.match(r'[Mm]ar[a-z,.]*', month)\n",
    "    if result is not None:\n",
    "        return '03'\n",
    "    result = re.match(r'[Aa]pr[a-z,.]*', month)\n",
    "    if result is not None:\n",
    "        return '04'\n",
    "    result = re.match(r'[Mm]ay[a-z,.]*', month)\n",
    "    if result is not None:\n",
    "        return '05'\n",
    "    result = re.match(r'[Jj]un[a-z,.]*', month)\n",
    "    if result is not None:\n",
    "        return '06'\n",
    "    result = re.match(r'[Jj]ul[a-z,.]*', month)\n",
    "    if result is not None:\n",
    "        return '07'\n",
    "    result = re.match(r'[Aa]ug[a-z,.]*', month)\n",
    "    if result is not None:\n",
    "        return '08'\n",
    "    result = re.match(r'[Ss]ep[a-z,.]*', month)\n",
    "    if result is not None:\n",
    "        return '09'\n",
    "    result = re.match(r'[Oo]ct[a-z,.]*', month)\n",
    "    if result is not None:\n",
    "        return '10'\n",
    "    result = re.match(r'[Nn]ov[a-z,.]*', month)\n",
    "    if result is not None:\n",
    "        return '11'\n",
    "    result = re.match(r'[Dd]ec[a-z,.]*', month)\n",
    "    if result is not None:\n",
    "        return '12'\n",
    "    \n",
    "    return None"
   ]
  },
  {
   "cell_type": "code",
   "execution_count": 117,
   "metadata": {
    "collapsed": true
   },
   "outputs": [],
   "source": [
    "def get_year(year):\n",
    "    \"\"\"\n",
    "    Returns year in 'yyyy' format.\n",
    "    \"\"\"\n",
    "    if len(year) == 4:\n",
    "        return year\n",
    "    else:\n",
    "        return '19' + year"
   ]
  },
  {
   "cell_type": "code",
   "execution_count": 118,
   "metadata": {
    "collapsed": true
   },
   "outputs": [],
   "source": [
    "def extract_data():\n",
    "    \"\"\"\n",
    "    Extracts data from 'dates.txt' file. This file consists of clinic patient notes\n",
    "    that contain dates that are in different formats.\n",
    "    \"\"\"\n",
    "    with open('dates.txt') as file:\n",
    "        for line in file:\n",
    "            doc.append(line)\n",
    "    return doc"
   ]
  },
  {
   "cell_type": "code",
   "execution_count": 119,
   "metadata": {
    "collapsed": true
   },
   "outputs": [],
   "source": [
    "def process_text(row):\n",
    "    \"\"\"\n",
    "    Extracts the date contained in the 'Text' field and stored a formatted date in the\n",
    "    'formatted_date' field. Where applicable the method processes data from most specific\n",
    "    to least specific.\n",
    "    \"\"\"\n",
    "    # Check for date in the format similar to mm/dd/yyyy.\n",
    "    tmp = re.search(r'\\d{1,2}[/-]\\d{1,2}[/-]\\d{2,4}', row['Text'])\n",
    "    if tmp is not None:\n",
    "        try:\n",
    "            value = tmp.group()\n",
    "            if '-' in value:\n",
    "                mdy = tmp.group().split('-')\n",
    "            else:\n",
    "                mdy = tmp.group().split('/')\n",
    "            mm = mdy[0]\n",
    "            if len(mdy[0]) == 1:\n",
    "                mm = '0' + mdy[0]\n",
    "            dd = mdy[1]\n",
    "            if len(mdy[1]) == 1:\n",
    "                dd = '0' + mdy[1]\n",
    "            yyyy = mdy[2]\n",
    "            if len(mdy[2]) == 2:\n",
    "                yyyy = '19' + mdy[2]\n",
    "            row['formatted_date'] = get_date_object('{}/{}/{}'.format(mm, dd, yyyy))\n",
    "        except:\n",
    "            print('ERROR_0 > {} -- {}'.format(tmp.group(), row['Text']))\n",
    "        return row\n",
    "    \n",
    "    # Check for date in 'month year' format. For example, 'Feb 2009', 'June 97'.\n",
    "    tmp = re.search(r'(\\d{1,2} ([Jj]an|[Ff]eb|[Mm]ar|[Aa]pr|[Mm]ay|[Jj]un|[Jj]ul|[Aa]ug|'\n",
    "                    r'[Ss]ep|[Oo]ct|[Nn]ov|[Dd]ec)[a-z,.]* \\d{2,4})', row['Text'])  \n",
    "    if tmp is not None:\n",
    "        try:\n",
    "            dmy = tmp.group().split(' ')\n",
    "            dd = get_day(dmy[0].strip())\n",
    "            mm = get_month_from_name(dmy[1].strip())\n",
    "            yyyy = get_year(dmy[2].strip())\n",
    "            row['formatted_date'] = get_date_object('{}/{}/{}'.format(mm, dd, yyyy))\n",
    "        except:\n",
    "            print('ERROR_1 > {} -- {}'.format(tmp.group(), row['Text']))\n",
    "        return row\n",
    "    \n",
    "    # Check for date in 'month dd, yyyy'. For example, Jan. 20, 2015.\n",
    "    tmp = re.search(r'(([Jj]an|[Ff]eb|[Mm]ar|[Aa]pr|[Mm]ay|[Jj]un|[Jj]ul|[Aa]ug|[Ss]ep|'\n",
    "                    r'[Oo]ct|[Nn]ov|[Dd]ec)[a-z,.]*[\\s.-]+\\d{1,2}[\\s,-]+\\d{2,4})', row['Text'])\n",
    "    if tmp is not None:\n",
    "        try:\n",
    "            value = tmp.group()\n",
    "            if '-' in value:\n",
    "                mdy = tmp.group().split('-')\n",
    "            else:\n",
    "                mdy = tmp.group().split(' ')\n",
    "            dd = get_day(mdy[1].strip())\n",
    "            mm = get_month_from_name(mdy[0].strip())\n",
    "            yyyy = get_year(mdy[2].strip())\n",
    "            row['formatted_date'] = get_date_object('{}/{}/{}'.format(mm, dd, yyyy))\n",
    "        except:\n",
    "            print(\"ERROR_3 > \", tmp.group())\n",
    "        return row\n",
    "    \n",
    "    # Find date similar to June, year. This will be stored as 'mm/01/year'.\n",
    "    tmp = re.search(r'(([Jj]an|[Ff]eb|[Mm]ar|[Aa]pr|[Mm]ay|[Jj]un|[Jj]ul|[Aa]ug|[Ss]ep|'\n",
    "                    r'[Oo]ct|[Nn]ov|[Dd]ec)[a-z,.]* \\d{4})', row['Text'])\n",
    "    if tmp is not None:\n",
    "        try:\n",
    "            my = tmp.group().split(' ')\n",
    "            mm = get_month_from_name(my[0].strip())\n",
    "            yyyy = get_year(my[1].strip())\n",
    "            row['formatted_date'] = get_date_object('{}/01/{}'.format(mm, yyyy))\n",
    "        except:\n",
    "            print(\"ERROR_4 > \", tmp.group())\n",
    "        return row\n",
    "    \n",
    "    # Find date similar to 'month/year' format. This will be stored as mm/01/yyyy.\n",
    "    tmp = re.search(r'(^| )(\\d{1,2}[/]\\d{2,4})', row['Text'])\n",
    "    if tmp is not None:\n",
    "        try:\n",
    "            my = tmp.group().split('/')\n",
    "            mm = get_month(my[0].strip())\n",
    "            yyyy = get_year(my[1].strip())\n",
    "            row['formatted_date'] = get_date_object('{}/01/{}'.format(mm, yyyy))\n",
    "        except:\n",
    "            print(\"ERROR_5 > \", tmp.group())\n",
    "        return row\n",
    "    \n",
    "    # Find a year. This will be stored as: '01/01/1998'\n",
    "    tmp = re.search(r'(^| )(\\d{4})', row['Text'])\n",
    "    if tmp is not None:\n",
    "        try:\n",
    "            yyyy = tmp.group().strip()\n",
    "            row['formatted_date'] = get_date_object('01/01/{}'.format(get_year(yyyy)))\n",
    "        except:\n",
    "            print(\"ERROR_6 > \", tmp.group())\n",
    "        return row\n",
    "    \n",
    "    # Find a year. This will be stored as: '01/01/1997'.\n",
    "    tmp = re.search(r'(\\d{4})', row['Text'])\n",
    "    if tmp is not None:\n",
    "        try:\n",
    "            yyyy = tmp.group().strip()\n",
    "            row['formatted_date'] = get_date_object('01/01/{}'.format(get_year(yyyy)))\n",
    "        except:\n",
    "            print(\"ERROR_7 > \", tmp.group())\n",
    "        return row\n",
    "    \n",
    "    # Unable to find a matching date format.\n",
    "    row['formstted_date'] = set_date('01/01/1900')\n",
    "    return row"
   ]
  },
  {
   "cell_type": "code",
   "execution_count": 120,
   "metadata": {
    "collapsed": true
   },
   "outputs": [],
   "source": [
    "def get_date_object(str_date):\n",
    "    \"\"\" \n",
    "    Given a date in 'mm/dd/yyyy' format returns the associated date object.\n",
    "    \"\"\"\n",
    "    return datetime.strptime(str_date, '%m/%d/%Y')"
   ]
  },
  {
   "cell_type": "code",
   "execution_count": 121,
   "metadata": {},
   "outputs": [
    {
     "name": "stdout",
     "output_type": "stream",
     "text": [
      "                                                 Text formatted_date\n",
      "9            (4/10/71)Score-1Audit C Score Current:\\n     1971-04-10\n",
      "84        5/18/71 Total time of visit (in minutes):\\n     1971-05-18\n",
      "2   sshe plans to move as of 7/8/71 In-Home Servic...     1971-07-08\n",
      "53                      7/11/71 SOS-10 Total Score:\\n     1971-07-11\n",
      "28                             9/12/71 [report_end]\\n     1971-09-12\n",
      "                                                  Text formatted_date\n",
      "231  50 yo DWF with a history of alcohol use disord...     2016-05-01\n",
      "141                  30 May 2016 SOS-10 Total Score:\\n     2016-05-30\n",
      "186                 13 Oct 2016 Primary Care Doctor:\\n     2016-10-13\n",
      "161  19 Oct 2016 Communication with referring physi...     2016-10-19\n",
      "413                     11/2016 Primary Care Doctor:\\n     2016-11-01\n"
     ]
    }
   ],
   "source": [
    "# Load data.\n",
    "doc = []\n",
    "doc = extract_data()\n",
    "\n",
    "# Convert to pandas dataframe.\n",
    "df = convert_list_to_df(doc)\n",
    "\n",
    "# Read Text field to extract date and place in 'formatted_date' field.\n",
    "df = date_transformer(df)\n",
    "df = df.sort_values(by=['formatted_date'])\n",
    "\n",
    "# Print samples.\n",
    "print(df.head())\n",
    "print(df.tail())"
   ]
  },
  {
   "cell_type": "code",
   "execution_count": null,
   "metadata": {
    "collapsed": true
   },
   "outputs": [],
   "source": []
  }
 ],
 "metadata": {
  "kernelspec": {
   "display_name": "Python 3",
   "language": "python",
   "name": "python3"
  },
  "language_info": {
   "codemirror_mode": {
    "name": "ipython",
    "version": 3
   },
   "file_extension": ".py",
   "mimetype": "text/x-python",
   "name": "python",
   "nbconvert_exporter": "python",
   "pygments_lexer": "ipython3",
   "version": "3.6.3"
  }
 },
 "nbformat": 4,
 "nbformat_minor": 2
}
